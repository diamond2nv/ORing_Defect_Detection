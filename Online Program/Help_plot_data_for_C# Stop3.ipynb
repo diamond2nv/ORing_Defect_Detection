{
 "cells": [
  {
   "cell_type": "code",
   "execution_count": 2,
   "metadata": {},
   "outputs": [],
   "source": [
    "import matplotlib.pyplot as plt\n",
    "\n",
    "%matplotlib inline"
   ]
  },
  {
   "cell_type": "code",
   "execution_count": 27,
   "metadata": {},
   "outputs": [],
   "source": [
    "list_now = []\n",
    "for index in range(720):\n",
    "    f = open(\"C:\\\\Users\\\\Chernger\\\\Desktop\\\\plot_data\\\\raw_data\\\\{}.txt\".format(index))\n",
    "    list_now = f.read().splitlines()\n",
    "    list_now = list(map(int, list_now))\n",
    "    #print(list_now)\n",
    "    \n",
    "    fig, ax = plt.subplots( nrows=1, ncols=1 ) \n",
    "    #plt.figure(figsize=(20,20))\n",
    "    ax.plot(list_now)\n",
    "    fig.savefig('C:\\\\Users\\\\Chernger\\\\Desktop\\\\plot_data\\\\plot\\\\{}.png'.format(index))# save the figure to file\n",
    "    plt.close(fig)\n",
    "    "
   ]
  },
  {
   "cell_type": "code",
   "execution_count": null,
   "metadata": {},
   "outputs": [],
   "source": []
  }
 ],
 "metadata": {
  "kernelspec": {
   "display_name": "Python 3",
   "language": "python",
   "name": "python3"
  },
  "language_info": {
   "codemirror_mode": {
    "name": "ipython",
    "version": 3
   },
   "file_extension": ".py",
   "mimetype": "text/x-python",
   "name": "python",
   "nbconvert_exporter": "python",
   "pygments_lexer": "ipython3",
   "version": "3.7.3"
  }
 },
 "nbformat": 4,
 "nbformat_minor": 4
}
